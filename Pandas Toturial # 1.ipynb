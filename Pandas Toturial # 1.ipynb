{
 "cells": [
  {
   "cell_type": "markdown",
   "id": "b025ad65-23dd-4dd6-bd68-8ba1de33f9ff",
   "metadata": {},
   "source": [
    "# What is Pandas Series?\n",
    "\n",
    "\n",
    "#### Series is One dimnentional Array "
   ]
  },
  {
   "cell_type": "markdown",
   "id": "b19af44a-c0b2-4793-9de9-8f05e3467cda",
   "metadata": {},
   "source": [
    "### Import necessary Libraries"
   ]
  },
  {
   "cell_type": "code",
   "execution_count": 75,
   "id": "2310e7fe-61b9-499c-9d5c-f3915944b16c",
   "metadata": {},
   "outputs": [],
   "source": [
    "import pandas as pd\n",
    "import numpy as np"
   ]
  },
  {
   "cell_type": "markdown",
   "id": "cce212d3-a89c-4694-9123-6eee1908b5d4",
   "metadata": {},
   "source": [
    "### Series from numpy array:"
   ]
  },
  {
   "cell_type": "code",
   "execution_count": 76,
   "id": "2038ebd2-9159-4a7b-89ff-9d3fad84b544",
   "metadata": {},
   "outputs": [
    {
     "name": "stdout",
     "output_type": "stream",
     "text": [
      "0    A\n",
      "1    B\n",
      "2    C\n",
      "3    D\n",
      "4    E\n",
      "dtype: object\n"
     ]
    }
   ],
   "source": [
    "np_Array = np.array([\"A\", \"B\", \"C\", \"D\", \"E\"])\n",
    "mySeries = pd.Series(np_Array)\n",
    "print(mySeries)"
   ]
  },
  {
   "cell_type": "markdown",
   "id": "88d8ea29-a8f8-491f-bd12-999259fc807b",
   "metadata": {},
   "source": [
    "### Series from python list:"
   ]
  },
  {
   "cell_type": "code",
   "execution_count": 77,
   "id": "66682a96-9bf7-46e1-8ee5-b7678e58a6bf",
   "metadata": {},
   "outputs": [
    {
     "name": "stdout",
     "output_type": "stream",
     "text": [
      "0    A\n",
      "1    B\n",
      "2    C\n",
      "3    D\n",
      "4    E\n",
      "dtype: object\n"
     ]
    }
   ],
   "source": [
    "py_List = [\"A\", \"B\", \"C\", \"D\", \"E\"]\n",
    "mySeries1 = pd.Series(py_List)\n",
    "print(mySeries1)"
   ]
  },
  {
   "cell_type": "markdown",
   "id": "4f5e743e-ab9f-468c-9aff-938ceb964fe6",
   "metadata": {},
   "source": [
    "### Series from python Dictionary:"
   ]
  },
  {
   "cell_type": "code",
   "execution_count": 78,
   "id": "2b176aa4-5fc0-412d-a845-310792729ae4",
   "metadata": {},
   "outputs": [
    {
     "name": "stdout",
     "output_type": "stream",
     "text": [
      "Ahmed    10\n",
      "Aqib     20\n",
      "Ali      30\n",
      "dtype: int64\n"
     ]
    }
   ],
   "source": [
    "py_Dic = {\"Ahmed\":10, \"Aqib\": 20, \"Ali\": 30}\n",
    "mySeries2 = pd.Series(py_Dic)\n",
    "print(mySeries2)"
   ]
  },
  {
   "cell_type": "markdown",
   "id": "4dd2393e-1a9f-4836-a79b-c07dc8e965f2",
   "metadata": {},
   "source": [
    "### Series from python Range Function:"
   ]
  },
  {
   "cell_type": "code",
   "execution_count": 79,
   "id": "ca7042ff-3b49-45e9-9f62-3c0a85a94544",
   "metadata": {},
   "outputs": [
    {
     "name": "stdout",
     "output_type": "stream",
     "text": [
      "a    1\n",
      "b    3\n",
      "c    5\n",
      "d    7\n",
      "e    9\n",
      "dtype: int64\n"
     ]
    }
   ],
   "source": [
    "mySeries3 = pd.Series(range(1, 10, 2), index = ['a', 'b', 'c', 'd' ,'e'])\n",
    "print(mySeries3)"
   ]
  },
  {
   "cell_type": "code",
   "execution_count": null,
   "id": "a0af66db-d9d9-47f9-b674-9a533cc227ac",
   "metadata": {},
   "outputs": [],
   "source": []
  },
  {
   "cell_type": "code",
   "execution_count": null,
   "id": "02b3fa01-7c45-4b0d-a9b0-0f9a7c58786c",
   "metadata": {},
   "outputs": [],
   "source": []
  },
  {
   "cell_type": "code",
   "execution_count": null,
   "id": "497c1c62-84bc-4d89-aa27-03d5939131d7",
   "metadata": {},
   "outputs": [],
   "source": []
  },
  {
   "cell_type": "code",
   "execution_count": null,
   "id": "09005357-a00a-4b11-8f1d-d4be546dee16",
   "metadata": {},
   "outputs": [],
   "source": []
  },
  {
   "cell_type": "code",
   "execution_count": null,
   "id": "561fb9be-b441-4668-aab5-64ddd68ac48a",
   "metadata": {},
   "outputs": [],
   "source": []
  },
  {
   "cell_type": "code",
   "execution_count": null,
   "id": "28f7ab64-4571-4a0c-970b-47b2461ad606",
   "metadata": {},
   "outputs": [],
   "source": []
  },
  {
   "cell_type": "code",
   "execution_count": null,
   "id": "b4fdfc72-e8df-4182-9592-1c012be4e263",
   "metadata": {},
   "outputs": [],
   "source": []
  },
  {
   "cell_type": "code",
   "execution_count": null,
   "id": "65278413-a665-400c-a267-b0d136ac1836",
   "metadata": {},
   "outputs": [],
   "source": []
  },
  {
   "cell_type": "markdown",
   "id": "e6212357-d408-4ec0-ab83-4521822876ed",
   "metadata": {},
   "source": [
    "### Series Example 1"
   ]
  },
  {
   "cell_type": "code",
   "execution_count": 80,
   "id": "b8ef0e6a-79b1-4b5c-a126-17f918cb809d",
   "metadata": {},
   "outputs": [
    {
     "name": "stdout",
     "output_type": "stream",
     "text": [
      "0    A1\n",
      "1    B1\n",
      "2    C1\n",
      "3    D1\n",
      "4    E1\n",
      "dtype: object\n"
     ]
    }
   ],
   "source": [
    "py_List = [\"A1\", \"B1\", \"C1\", \"D1\", \"E1\"]\n",
    "mySeries1 = pd.Series(py_List, index = [0,1,2,3,4])\n",
    "print(mySeries1)"
   ]
  },
  {
   "cell_type": "code",
   "execution_count": 81,
   "id": "77c42b3d-dc19-462c-95e9-461a75828701",
   "metadata": {},
   "outputs": [
    {
     "data": {
      "text/plain": [
       "0    A1\n",
       "1    B1\n",
       "2    C1\n",
       "3    D1\n",
       "4    E1\n",
       "5    M1\n",
       "dtype: object"
      ]
     },
     "execution_count": 81,
     "metadata": {},
     "output_type": "execute_result"
    }
   ],
   "source": [
    "# Add an element at the end of series\n",
    "mySeries1[5] = \"M1\"\n",
    "mySeries1"
   ]
  },
  {
   "cell_type": "code",
   "execution_count": 82,
   "id": "5afbab6c-4550-4bc7-b164-22dfa95b6866",
   "metadata": {},
   "outputs": [],
   "source": [
    "# Replace value\n",
    "mySeries1[0] = 'Ahmed'\n",
    "mySeries1[3] = 'Ahmed'\n",
    "mySeries1[4] = 'Ali'"
   ]
  },
  {
   "cell_type": "code",
   "execution_count": 83,
   "id": "767203ad-190d-40d0-b96b-7394fca22b78",
   "metadata": {},
   "outputs": [
    {
     "data": {
      "text/plain": [
       "0    Ahmed\n",
       "1       B1\n",
       "2       C1\n",
       "3    Ahmed\n",
       "4      Ali\n",
       "5       M1\n",
       "dtype: object"
      ]
     },
     "execution_count": 83,
     "metadata": {},
     "output_type": "execute_result"
    }
   ],
   "source": [
    "mySeries1"
   ]
  },
  {
   "cell_type": "code",
   "execution_count": 84,
   "id": "cbe28551-15f5-424f-a1eb-5d601e1621af",
   "metadata": {},
   "outputs": [
    {
     "data": {
      "text/plain": [
       "array(['Ahmed', 'B1', 'C1', 'Ali', 'M1'], dtype=object)"
      ]
     },
     "execution_count": 84,
     "metadata": {},
     "output_type": "execute_result"
    }
   ],
   "source": [
    "mySeries1.unique()"
   ]
  },
  {
   "cell_type": "code",
   "execution_count": 85,
   "id": "0e6aa6fc-d1a8-4119-bd88-9c6f1380a5f1",
   "metadata": {},
   "outputs": [
    {
     "data": {
      "text/plain": [
       "Ahmed    2\n",
       "B1       1\n",
       "C1       1\n",
       "Ali      1\n",
       "M1       1\n",
       "Name: count, dtype: int64"
      ]
     },
     "execution_count": 85,
     "metadata": {},
     "output_type": "execute_result"
    }
   ],
   "source": [
    "mySeries1.value_counts()"
   ]
  },
  {
   "cell_type": "markdown",
   "id": "d1ebedc3-3176-4a1b-9212-061e2f412a1c",
   "metadata": {},
   "source": [
    "### Series Example 2"
   ]
  },
  {
   "cell_type": "code",
   "execution_count": 86,
   "id": "541e9f9a-abf3-496d-989d-a70cb58e925b",
   "metadata": {},
   "outputs": [
    {
     "data": {
      "text/plain": [
       "a     8.0\n",
       "b    10.0\n",
       "c    15.0\n",
       "d    20.0\n",
       "e    10.0\n",
       "f    26.0\n",
       "g    30.0\n",
       "h     NaN\n",
       "dtype: float64"
      ]
     },
     "execution_count": 86,
     "metadata": {},
     "output_type": "execute_result"
    }
   ],
   "source": [
    "\n",
    "# Sample Series \n",
    "mySeries = pd.Series([8,10 , 15, 20, 10, 26, 30, None], index=['a', 'b', 'c', 'd', 'e', 'f', 'g','h'])\n",
    "mySeries"
   ]
  },
  {
   "cell_type": "code",
   "execution_count": 87,
   "id": "6e0ad860-34e3-4815-9a50-726c40c7c198",
   "metadata": {},
   "outputs": [
    {
     "data": {
      "text/plain": [
       "a    12.0\n",
       "b    12.0\n",
       "c    15.0\n",
       "d    20.0\n",
       "e    12.0\n",
       "f    25.0\n",
       "g    25.0\n",
       "h     NaN\n",
       "dtype: float64"
      ]
     },
     "execution_count": 87,
     "metadata": {},
     "output_type": "execute_result"
    }
   ],
   "source": [
    "mySeries.clip(lower=12, upper=25)"
   ]
  },
  {
   "cell_type": "markdown",
   "id": "5fa1abf0-22fc-4265-a04e-92dae4606e16",
   "metadata": {},
   "source": [
    "### We can create a Series from a Data Frame Column: Will See in upcoming videos"
   ]
  },
  {
   "cell_type": "code",
   "execution_count": null,
   "id": "90dcb0b2-d3cd-45f6-90b2-e6f283d4a088",
   "metadata": {},
   "outputs": [],
   "source": []
  },
  {
   "cell_type": "code",
   "execution_count": null,
   "id": "2329ac29-1ae4-4f40-8634-468c3386127f",
   "metadata": {},
   "outputs": [],
   "source": []
  },
  {
   "cell_type": "code",
   "execution_count": null,
   "id": "a6ab6fff-5297-4a3e-ba4c-4533ffff5e09",
   "metadata": {},
   "outputs": [],
   "source": []
  },
  {
   "cell_type": "code",
   "execution_count": null,
   "id": "c22ad8e1-ac2f-4077-b744-415c5c866577",
   "metadata": {},
   "outputs": [],
   "source": []
  },
  {
   "cell_type": "code",
   "execution_count": null,
   "id": "c25d2e01-27f8-463d-adde-25b5c3781409",
   "metadata": {},
   "outputs": [],
   "source": []
  },
  {
   "cell_type": "code",
   "execution_count": null,
   "id": "5b528c2f-1456-446c-99a0-f3889e9a4e92",
   "metadata": {},
   "outputs": [],
   "source": []
  },
  {
   "cell_type": "code",
   "execution_count": null,
   "id": "149a148f-1fbb-40dd-a586-11b2e0f95235",
   "metadata": {},
   "outputs": [],
   "source": []
  },
  {
   "cell_type": "code",
   "execution_count": null,
   "id": "434576ec-d37b-47c6-8507-d95beaf9ee63",
   "metadata": {},
   "outputs": [],
   "source": []
  },
  {
   "cell_type": "code",
   "execution_count": null,
   "id": "270d4d8c-48bd-4741-98d8-a77692a3e76b",
   "metadata": {},
   "outputs": [],
   "source": []
  },
  {
   "cell_type": "code",
   "execution_count": null,
   "id": "c3c7ac19-47e3-4fb0-9e2c-af018007e85f",
   "metadata": {},
   "outputs": [],
   "source": []
  },
  {
   "cell_type": "markdown",
   "id": "3ae6d332-b762-4aa6-8152-c3b73a8cdac2",
   "metadata": {},
   "source": [
    "# What is Pandas DataFrame?\n",
    "\n",
    "\n",
    "#### DataFrame is two dimnentional Array (Tabular Form)"
   ]
  },
  {
   "cell_type": "markdown",
   "id": "75426072-286b-4336-8dec-04351b3e87de",
   "metadata": {},
   "source": [
    "### 1) DataFrame from a list of lists:"
   ]
  },
  {
   "cell_type": "code",
   "execution_count": 88,
   "id": "2ee91de1-a92f-4149-a3f5-a9c49b10e504",
   "metadata": {},
   "outputs": [
    {
     "data": {
      "text/html": [
       "<div>\n",
       "<style scoped>\n",
       "    .dataframe tbody tr th:only-of-type {\n",
       "        vertical-align: middle;\n",
       "    }\n",
       "\n",
       "    .dataframe tbody tr th {\n",
       "        vertical-align: top;\n",
       "    }\n",
       "\n",
       "    .dataframe thead th {\n",
       "        text-align: right;\n",
       "    }\n",
       "</style>\n",
       "<table border=\"1\" class=\"dataframe\">\n",
       "  <thead>\n",
       "    <tr style=\"text-align: right;\">\n",
       "      <th></th>\n",
       "      <th>a</th>\n",
       "      <th>b</th>\n",
       "      <th>c</th>\n",
       "    </tr>\n",
       "  </thead>\n",
       "  <tbody>\n",
       "    <tr>\n",
       "      <th>1</th>\n",
       "      <td>4</td>\n",
       "      <td>7</td>\n",
       "      <td>10</td>\n",
       "    </tr>\n",
       "    <tr>\n",
       "      <th>2</th>\n",
       "      <td>5</td>\n",
       "      <td>8</td>\n",
       "      <td>11</td>\n",
       "    </tr>\n",
       "    <tr>\n",
       "      <th>3</th>\n",
       "      <td>6</td>\n",
       "      <td>9</td>\n",
       "      <td>12</td>\n",
       "    </tr>\n",
       "  </tbody>\n",
       "</table>\n",
       "</div>"
      ],
      "text/plain": [
       "   a  b   c\n",
       "1  4  7  10\n",
       "2  5  8  11\n",
       "3  6  9  12"
      ]
     },
     "execution_count": 88,
     "metadata": {},
     "output_type": "execute_result"
    }
   ],
   "source": [
    "data = [\n",
    "    [4, 7, 10],\n",
    "    [5, 8, 11],\n",
    "    [6, 9, 12],\n",
    "]\n",
    "index = [1, 2, 3]\n",
    "cols = ['a', 'b', 'c']\n",
    "df = pd.DataFrame(data=data, index = index, columns = cols)\n",
    "df"
   ]
  },
  {
   "cell_type": "markdown",
   "id": "8c195610-d831-45c4-9ce3-0d5ecd87bb79",
   "metadata": {},
   "source": [
    "### 2) DataFrame from a python dictionary:"
   ]
  },
  {
   "cell_type": "code",
   "execution_count": 89,
   "id": "a4c3fa93-8015-40ce-8419-61305e620ac3",
   "metadata": {},
   "outputs": [
    {
     "data": {
      "text/html": [
       "<div>\n",
       "<style scoped>\n",
       "    .dataframe tbody tr th:only-of-type {\n",
       "        vertical-align: middle;\n",
       "    }\n",
       "\n",
       "    .dataframe tbody tr th {\n",
       "        vertical-align: top;\n",
       "    }\n",
       "\n",
       "    .dataframe thead th {\n",
       "        text-align: right;\n",
       "    }\n",
       "</style>\n",
       "<table border=\"1\" class=\"dataframe\">\n",
       "  <thead>\n",
       "    <tr style=\"text-align: right;\">\n",
       "      <th></th>\n",
       "      <th>a</th>\n",
       "      <th>b</th>\n",
       "      <th>c</th>\n",
       "    </tr>\n",
       "  </thead>\n",
       "  <tbody>\n",
       "    <tr>\n",
       "      <th>1</th>\n",
       "      <td>4</td>\n",
       "      <td>5</td>\n",
       "      <td>6</td>\n",
       "    </tr>\n",
       "    <tr>\n",
       "      <th>2</th>\n",
       "      <td>7</td>\n",
       "      <td>8</td>\n",
       "      <td>9</td>\n",
       "    </tr>\n",
       "    <tr>\n",
       "      <th>3</th>\n",
       "      <td>10</td>\n",
       "      <td>11</td>\n",
       "      <td>12</td>\n",
       "    </tr>\n",
       "  </tbody>\n",
       "</table>\n",
       "</div>"
      ],
      "text/plain": [
       "    a   b   c\n",
       "1   4   5   6\n",
       "2   7   8   9\n",
       "3  10  11  12"
      ]
     },
     "execution_count": 89,
     "metadata": {},
     "output_type": "execute_result"
    }
   ],
   "source": [
    "data = {\n",
    "        'a':[4, 7, 10],\n",
    "        'b':[5, 8, 11],\n",
    "        'c': [6, 9, 12],\n",
    "}\n",
    "index = [1, 2, 3]\n",
    "df1 = pd.DataFrame(data=data, index = index, )\n",
    "df1"
   ]
  },
  {
   "cell_type": "markdown",
   "id": "b4f7ed83-e062-4ba6-be4a-3f41dc233ffb",
   "metadata": {},
   "source": [
    "### 3) DataFrame from a tabular data file: (Excel, CSV, TSV, Json etc): In upcoming videos"
   ]
  },
  {
   "cell_type": "code",
   "execution_count": null,
   "id": "0fb9254f-40f0-4897-8704-0c1f61a9b4f0",
   "metadata": {},
   "outputs": [],
   "source": []
  },
  {
   "cell_type": "code",
   "execution_count": null,
   "id": "7d10a279-25ff-4b0d-8d70-a0fea30b72ae",
   "metadata": {},
   "outputs": [],
   "source": []
  },
  {
   "cell_type": "code",
   "execution_count": null,
   "id": "c4086254-ec3b-4593-9439-8aa22192a274",
   "metadata": {},
   "outputs": [],
   "source": []
  }
 ],
 "metadata": {
  "kernelspec": {
   "display_name": "Python 3 (ipykernel)",
   "language": "python",
   "name": "python3"
  },
  "language_info": {
   "codemirror_mode": {
    "name": "ipython",
    "version": 3
   },
   "file_extension": ".py",
   "mimetype": "text/x-python",
   "name": "python",
   "nbconvert_exporter": "python",
   "pygments_lexer": "ipython3",
   "version": "3.13.5"
  }
 },
 "nbformat": 4,
 "nbformat_minor": 5
}
